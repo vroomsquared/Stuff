{
 "cells": [
  {
   "cell_type": "markdown",
   "id": "marked-lender",
   "metadata": {},
   "source": [
    "# Modeling US vs. CH ASAT Warfare\n",
    "## BLUFOR Agents\n",
    "* US Carrier Groups\n",
    "    * Carrier Groups, Fighter Squadrons, …\n",
    "\n",
    "* ASAT Warfare\n",
    "    * Ballistic Missiles (MRBM)\n",
    "    * Directed Energy Weapons\n",
    "    * Electronic Warfare Systems\n",
    "\n",
    "* Satellite Systems (ISR, PNT, ~Comms)\n",
    "\n",
    "## REDFOR Agents\n",
    "* Chinese Defense Systems\n",
    "    * Anti-ship MRB/HGV Missiles\n",
    "    * Anti-aircraft SAMs\n",
    "    * Fighters & Bombers\n",
    "\n",
    "* ASAT Warfare\n",
    "    * Ballistic Missiles (SRBM)\n",
    "    * Electronic Warfare Systems\n",
    "\n",
    "* Satellite Systems (ISR, PNT, ~Comms)\n",
    "\n",
    "\n",
    "![](images/objectdiag.png)"
   ]
  },
  {
   "cell_type": "markdown",
   "id": "optimum-boxing",
   "metadata": {},
   "source": [
    "## Notes\n",
    "* Establish Units and coordinate system\n",
    "    * Location\n",
    "    * Speed\n",
    "    * Targeting angle\n",
    "* Establish coding standards\n",
    "    * Sight array $\\rightarrow$ [range, angle]"
   ]
  },
  {
   "cell_type": "markdown",
   "id": "finnish-recipient",
   "metadata": {},
   "source": [
    "## Using mesa to model the simulation"
   ]
  },
  {
   "cell_type": "code",
   "execution_count": 1,
   "id": "accessible-promise",
   "metadata": {},
   "outputs": [
    {
     "data": {
      "text/plain": [
       "'/Users/vroom1729/VDocs/School/Spring 2021/ML/Military Gaming'"
      ]
     },
     "execution_count": 1,
     "metadata": {},
     "output_type": "execute_result"
    }
   ],
   "source": [
    "import os\n",
    "os.getcwd() "
   ]
  },
  {
   "cell_type": "code",
   "execution_count": 2,
   "id": "regulated-enhancement",
   "metadata": {},
   "outputs": [],
   "source": [
    "# Imports\n",
    "from SatSim.model import SCS\n",
    "import numpy as np\n",
    "import matplotlib.pyplot as plt\n",
    "%matplotlib inline"
   ]
  },
  {
   "cell_type": "code",
   "execution_count": 7,
   "id": "juvenile-injection",
   "metadata": {},
   "outputs": [],
   "source": [
    "def draw_agents(model):\n",
    "    x_vals = []\n",
    "    y_vals = []\n",
    "    for agent in model.schedule.agents:\n",
    "        x, y = agent.pos\n",
    "        x_vals.append(x)\n",
    "        y_vals.append(y)\n",
    "    fig = plt.figure(figsize=(10,10))\n",
    "    ax = fig.add_subplot(111)\n",
    "    ax.scatter(x_vals, y_vals)"
   ]
  },
  {
   "cell_type": "code",
   "execution_count": 4,
   "id": "interior-video",
   "metadata": {},
   "outputs": [],
   "source": [
    "model = SCS(1, 100, 100, speed=2, vision=5)"
   ]
  },
  {
   "cell_type": "code",
   "execution_count": 5,
   "id": "checked-sunday",
   "metadata": {},
   "outputs": [],
   "source": [
    "for i in range(2):\n",
    "    model.step()"
   ]
  },
  {
   "cell_type": "code",
   "execution_count": 8,
   "id": "personalized-volunteer",
   "metadata": {},
   "outputs": [
    {
     "data": {
      "image/png": "[encoded data removed]",
      "text/plain": [
       "<Figure size 720x720 with 1 Axes>"
      ]
     },
     "metadata": {
      "needs_background": "light"
     },
     "output_type": "display_data"
    }
   ],
   "source": [
    "draw_agents(model)"
   ]
  },
  {
   "cell_type": "code",
   "execution_count": null,
   "id": "extra-broadcasting",
   "metadata": {},
   "outputs": [],
   "source": []
  }
 ],
 "metadata": {
  "kernelspec": {
   "display_name": "Python 3",
   "language": "python",
   "name": "python3"
  },
  "language_info": {
   "codemirror_mode": {
    "name": "ipython",
    "version": 3
   },
   "file_extension": ".py",
   "mimetype": "text/x-python",
   "name": "python",
   "nbconvert_exporter": "python",
   "pygments_lexer": "ipython3",
   "version": "3.7.9"
  }
 },
 "nbformat": 4,
 "nbformat_minor": 5
}
